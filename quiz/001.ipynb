{
 "cells": [
  {
   "cell_type": "markdown",
   "metadata": {},
   "source": [
    "마스크를 쓰지 않고는 밖을 다니면 안 되는 코로나19 시대입니다.\n",
    "코로나19가 장기화되면서 코로나 블루라는 말이 나올 정도로 우울한 사람들이 많아지고 있습니다.\n",
    "\n",
    "세계적인 전기자동차 회사 경영자인 '얼른 마스크'씨는\n",
    "자신의 전기자동차를 타는 고객들이 조금이라도 행복할 수 있기를 바라며\n",
    "판매하는 전기자동차 번호판 일련번호 4자리를 행복 수(happy number)로 채우고자 합니다.\n",
    "\n",
    "행복 수는 각 자릿수의 제곱의 합으로 변환하는 과정을 반복할 때 언젠가는 1에 도달하는 수입니다.\n",
    "예로, 13 → 1x1 + 3x3 = 10 → 1x1 + 0x0 = 1이므로 13은 행복 수입니다.\n",
    "\n",
    "행복 수가 아닌 것은 슬픈(sad) 수 또는 불행(unhappy) 수라고 불립니다.\n",
    "예로, 4 → 4x4 = 16 → 1x1 + 6x6 = 37 → 3x3 + 7x7 = 58 → ... → 4 로 순환하여 결코 1에 도달할 수 없으니 4는 슬픈 수입니다.\n",
    "\n",
    "문제\n",
    "'얼른 마스크'씨 회사 전기자동차의 일련번호가 될 수 있는 1 ~ 9999 범위의 행복 수는 모두 몇 개이고\n",
    "그 총합은 얼마인지 구하는 프로그램을 작성해서 보내주세요 작성하세요.\n",
    "\n",
    "입력\n",
    "각 범위의 최댓값을 한 줄에 하나씩 입력으로 받습니다. 최종적으로 구하고자 하는 범위의 최댓값은 9999이므로 소스코드 안에 하드코딩 해도 됩니다."
   ]
  },
  {
   "cell_type": "code",
   "execution_count": 5,
   "metadata": {},
   "outputs": [
    {
     "data": {
      "text/plain": [
       "16"
      ]
     },
     "execution_count": 5,
     "metadata": {},
     "output_type": "execute_result"
    }
   ],
   "source": [
    "def square_sum(number):\n",
    "    result = 0 \n",
    "    num_list = list(str(number))\n",
    "    result = eval('**2+'.join(num_list)+'**2')\n",
    "    return result\n",
    "\n",
    "def solution(number):\n",
    "    cnt = 0\n",
    "    sum = 0\n",
    "    \n",
    "    for i in range(1,number+1):\n",
    "        square = square_sum(i)\n",
    "        while square >= 10:\n",
    "            square = square_sum(square)\n",
    "            # print(square)\n",
    "        if square == 1:\n",
    "            cnt+=1\n",
    "            sum+=i\n",
    "    return cnt * sum\n",
    "\n",
    "solution(9)"
   ]
  },
  {
   "cell_type": "code",
   "execution_count": 4,
   "metadata": {},
   "outputs": [
    {
     "data": {
      "text/plain": [
       "(1, 2, 3, 4, 5, 6, 7, 8, 9, 10)"
      ]
     },
     "execution_count": 4,
     "metadata": {},
     "output_type": "execute_result"
    }
   ],
   "source": []
  },
  {
   "cell_type": "code",
   "execution_count": null,
   "metadata": {},
   "outputs": [],
   "source": [
    "'**2+'.join(list('1124'))+'**2'"
   ]
  }
 ],
 "metadata": {
  "kernelspec": {
   "display_name": "euler",
   "language": "python",
   "name": "python3"
  },
  "language_info": {
   "codemirror_mode": {
    "name": "ipython",
    "version": 3
   },
   "file_extension": ".py",
   "mimetype": "text/x-python",
   "name": "python",
   "nbconvert_exporter": "python",
   "pygments_lexer": "ipython3",
   "version": "3.11.5"
  }
 },
 "nbformat": 4,
 "nbformat_minor": 2
}
