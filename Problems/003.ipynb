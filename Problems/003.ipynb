{
 "cells": [
  {
   "cell_type": "markdown",
   "metadata": {},
   "source": [
    "어떤 수를 소수의 곱으로만 나타내는 것을 소인수분해라 하고, 이 소수들을 그 수의 소인수라고 합니다.\n",
    "예를 들면 13195의 소인수는 5, 7, 13, 29 입니다.\n",
    "\n",
    "600851475143의 소인수 중에서 가장 큰 수를 구하세요."
   ]
  },
  {
   "cell_type": "code",
   "execution_count": 19,
   "metadata": {},
   "outputs": [],
   "source": [
    "def sosu(number):\n",
    "    if number == 1:\n",
    "        return False\n",
    "    for i in range(2,int(number**0.5)+1):\n",
    "        if number % i ==0:\n",
    "            return False\n",
    "    return True"
   ]
  },
  {
   "cell_type": "code",
   "execution_count": null,
   "metadata": {},
   "outputs": [],
   "source": [
    "def big_soinsu(number):\n",
    "    for i in range(number,0,-1):\n",
    "        if number % i ==0:\n",
    "            if sosu(i):\n",
    "                return i\n",
    "\n",
    "big_soinsu(600851475143)"
   ]
  },
  {
   "cell_type": "code",
   "execution_count": 24,
   "metadata": {},
   "outputs": [
    {
     "name": "stdout",
     "output_type": "stream",
     "text": [
      "[71, 839, 1471, 6857]\n"
     ]
    }
   ],
   "source": [
    "sosu_list = []\n",
    "finish = False\n",
    "number = 600851475143\n",
    "while not finish:\n",
    "    number = int(number)\n",
    "    for i in range(1, number+1):\n",
    "        if number % i ==0:\n",
    "            if sosu(i):\n",
    "                number /= i\n",
    "                sosu_list.append(i)\n",
    "                if max(sosu_list) > number:\n",
    "                    finish = True\n",
    "                break\n",
    "print(sosu_list)\n"
   ]
  }
 ],
 "metadata": {
  "kernelspec": {
   "display_name": "euler",
   "language": "python",
   "name": "python3"
  },
  "language_info": {
   "codemirror_mode": {
    "name": "ipython",
    "version": 3
   },
   "file_extension": ".py",
   "mimetype": "text/x-python",
   "name": "python",
   "nbconvert_exporter": "python",
   "pygments_lexer": "ipython3",
   "version": "3.9.7"
  }
 },
 "nbformat": 4,
 "nbformat_minor": 2
}
