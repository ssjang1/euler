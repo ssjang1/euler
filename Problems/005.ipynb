{
 "cells": [
  {
   "cell_type": "markdown",
   "metadata": {},
   "source": [
    "# 1 ~ 20 사이의 어떤 수로도 나누어 떨어지는 가장 작은 수\n",
    "\n",
    "1 ~ 10 사이의 어떤 수로도 나누어 떨어지는 가장 작은 수는 2520입니다.\n",
    "\n",
    "그러면 1 ~ 20 사이의 어떤 수로도 나누어 떨어지는 가장 작은 수는 얼마입니까?"
   ]
  },
  {
   "cell_type": "code",
   "execution_count": 4,
   "metadata": {},
   "outputs": [],
   "source": [
    "def is_prime(num):\n",
    "    if num < 2:\n",
    "        return False\n",
    "    for i in range(2, int(num**0.5) + 1):\n",
    "        if num % i == 0:\n",
    "            return False\n",
    "    return True\n",
    "\n",
    "def so_in_su(n):\n",
    "    result = []\n",
    "\n",
    "    i = 2  \n",
    "    while n > 1:\n",
    "        if is_prime(i) and n % i == 0:\n",
    "            n //= i  \n",
    "            result.append(i)\n",
    "            continue  \n",
    "        i += 1\n",
    "    return result\n"
   ]
  },
  {
   "cell_type": "code",
   "execution_count": 9,
   "metadata": {},
   "outputs": [
    {
     "data": {
      "text/plain": [
       "{2, 3, 5, 7}"
      ]
     },
     "execution_count": 9,
     "metadata": {},
     "output_type": "execute_result"
    }
   ],
   "source": [
    "set(so_in_su(2520))"
   ]
  },
  {
   "cell_type": "code",
   "execution_count": 11,
   "metadata": {},
   "outputs": [],
   "source": [
    "def get_soinsu_dict(soinsu_list):\n",
    "    soinsu_dict = {}\n",
    "    for num in set(soinsu_list):\n",
    "        soinsu_dict[f\"{num}\"] = soinsu_list.count(num)\n",
    "    return soinsu_dict"
   ]
  },
  {
   "cell_type": "code",
   "execution_count": 14,
   "metadata": {},
   "outputs": [
    {
     "data": {
      "text/plain": [
       "{'2': 3, '3': 2, '5': 1, '7': 1}"
      ]
     },
     "execution_count": 14,
     "metadata": {},
     "output_type": "execute_result"
    }
   ],
   "source": [
    "dict_list = []\n",
    "for i in range(1,11):\n",
    "    dict_list.append(get_soinsu_dict(so_in_su(i)))\n",
    "\n",
    "result = {}\n",
    "for d in dict_list:\n",
    "    for key, value in d.items():\n",
    "        if key in result:\n",
    "            result[key] = max(result[key], value)\n",
    "        else:\n",
    "            result[key] = value\n",
    "            \n",
    "result\n"
   ]
  },
  {
   "cell_type": "code",
   "execution_count": 16,
   "metadata": {},
   "outputs": [
    {
     "data": {
      "text/plain": [
       "{'2': 4, '3': 2, '5': 1, '7': 1, '11': 1, '13': 1, '17': 1, '19': 1}"
      ]
     },
     "execution_count": 16,
     "metadata": {},
     "output_type": "execute_result"
    }
   ],
   "source": [
    "dict_list = []\n",
    "for i in range(1,21):\n",
    "    dict_list.append(get_soinsu_dict(so_in_su(i)))\n",
    "\n",
    "result = {}\n",
    "for d in dict_list:\n",
    "    for key, value in d.items():\n",
    "        if key in result:\n",
    "            result[key] = max(result[key], value)\n",
    "        else:\n",
    "            result[key] = value\n",
    "result"
   ]
  },
  {
   "cell_type": "code",
   "execution_count": 17,
   "metadata": {},
   "outputs": [
    {
     "data": {
      "text/plain": [
       "232792560"
      ]
     },
     "execution_count": 17,
     "metadata": {},
     "output_type": "execute_result"
    }
   ],
   "source": [
    "2**4*3**2*5**1*7**1*11**1*13**1*17**1*19**1\n"
   ]
  }
 ],
 "metadata": {
  "kernelspec": {
   "display_name": "torch",
   "language": "python",
   "name": "python3"
  },
  "language_info": {
   "codemirror_mode": {
    "name": "ipython",
    "version": 3
   },
   "file_extension": ".py",
   "mimetype": "text/x-python",
   "name": "python",
   "nbconvert_exporter": "python",
   "pygments_lexer": "ipython3",
   "version": "3.11.5"
  }
 },
 "nbformat": 4,
 "nbformat_minor": 2
}
