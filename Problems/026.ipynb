{
 "cells": [
  {
   "cell_type": "markdown",
   "metadata": {},
   "source": [
    "# 1000 이하의 d 중에서 1/d 이 가장 긴 순환마디를 갖는 수는?\n",
    "\n",
    "분자가 1인 분수를 단위분수라고 합니다. 분모가 2에서 10까지의 단위분수는 아래와 같습니다.\n",
    "\n",
    "\n",
    "숫자 위에 찍힌 점은 순환마디를 나타내는데, 1/6의 경우 순환마디는 \"6\"으로 0.166666...처럼 6이 무한히 반복됨을 뜻합니다. 같은 식으로 1/7은 6자리의 순환마디(142857)를 가집니다.\n",
    "\n",
    "d 를 1000 이하의 정수라고 할 때, 단위분수 1/d 의 순환마디가 가장 긴 수는 무엇입니까?"
   ]
  },
  {
   "cell_type": "code",
   "execution_count": 9,
   "metadata": {},
   "outputs": [],
   "source": [
    "def find_sunhwan_len(n):\n",
    "    remainder = {}\n",
    "    value = 1\n",
    "    position = 0\n",
    "\n",
    "    while value != 0:\n",
    "        if value in remainder:\n",
    "            return position - remainder[value]\n",
    "        remainder[value] = position\n",
    "        value = (value % n) * 10\n",
    "        position +=1\n",
    "    return 0"
   ]
  },
  {
   "cell_type": "code",
   "execution_count": 5,
   "metadata": {},
   "outputs": [
    {
     "name": "stdout",
     "output_type": "stream",
     "text": [
      "{}\n",
      "{1: 0}\n",
      "{1: 0, 10: 1}\n",
      "{1: 0, 10: 1, 30: 2}\n",
      "{1: 0, 10: 1, 30: 2, 20: 3}\n",
      "{1: 0, 10: 1, 30: 2, 20: 3, 60: 4}\n",
      "{1: 0, 10: 1, 30: 2, 20: 3, 60: 4, 40: 5}\n",
      "{1: 0, 10: 1, 30: 2, 20: 3, 60: 4, 40: 5, 50: 6}\n",
      "6\n"
     ]
    }
   ],
   "source": [
    "n = 7\n",
    "remainder = {}\n",
    "value = 1\n",
    "position = 0\n",
    "\n",
    "while value != 0:\n",
    "    print(remainder)\n",
    "    if value in remainder:\n",
    "        print(position - remainder[value])\n",
    "        break\n",
    "    remainder[value] = position\n",
    "    value = (value % n) * 10\n",
    "    position +=1"
   ]
  },
  {
   "cell_type": "code",
   "execution_count": 11,
   "metadata": {},
   "outputs": [
    {
     "name": "stdout",
     "output_type": "stream",
     "text": [
      "(982, 983)\n"
     ]
    }
   ],
   "source": [
    "def solve(limit):\n",
    "    maxi=0\n",
    "    num =0\n",
    "    for i in range(2,limit+1):\n",
    "        length = find_sunhwan_len(i)\n",
    "        if length > maxi:\n",
    "            maxi = length\n",
    "            num = i\n",
    "    return maxi,num\n",
    "\n",
    "print(solve(1000))"
   ]
  }
 ],
 "metadata": {
  "kernelspec": {
   "display_name": "base",
   "language": "python",
   "name": "python3"
  },
  "language_info": {
   "codemirror_mode": {
    "name": "ipython",
    "version": 3
   },
   "file_extension": ".py",
   "mimetype": "text/x-python",
   "name": "python",
   "nbconvert_exporter": "python",
   "pygments_lexer": "ipython3",
   "version": "3.9.7"
  }
 },
 "nbformat": 4,
 "nbformat_minor": 2
}
