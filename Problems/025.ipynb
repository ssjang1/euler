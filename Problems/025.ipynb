{
 "cells": [
  {
   "cell_type": "code",
   "execution_count": 1,
   "metadata": {},
   "outputs": [],
   "source": [
    "def fibo(n):\n",
    "    if n>=3:\n",
    "        return fibo(n-2)+fibo(n-1)\n",
    "    elif n ==1:\n",
    "        return 1\n",
    "    elif n ==2:\n",
    "        return 1\n",
    "    "
   ]
  },
  {
   "cell_type": "code",
   "execution_count": 26,
   "metadata": {},
   "outputs": [
    {
     "name": "stdout",
     "output_type": "stream",
     "text": [
      "4782\n"
     ]
    }
   ],
   "source": [
    "a = [1,1]\n",
    "start = 0\n",
    "while True:\n",
    "    result = a[start]+ a[start+1]\n",
    "    a.append(result)\n",
    "    if len(str(a[-1])) >= 1000:\n",
    "        print(len(a))\n",
    "        break\n",
    "    start += 1"
   ]
  },
  {
   "cell_type": "code",
   "execution_count": null,
   "metadata": {},
   "outputs": [],
   "source": [
    "num = 1\n",
    "while True:\n",
    "    if len(str(fibo(num))) >=10:\n",
    "        print(num)\n",
    "        break\n",
    "    num += 1\n",
    "\n",
    "# 너무 오래걸림 "
   ]
  }
 ],
 "metadata": {
  "kernelspec": {
   "display_name": "Python 3",
   "language": "python",
   "name": "python3"
  },
  "language_info": {
   "codemirror_mode": {
    "name": "ipython",
    "version": 3
   },
   "file_extension": ".py",
   "mimetype": "text/x-python",
   "name": "python",
   "nbconvert_exporter": "python",
   "pygments_lexer": "ipython3",
   "version": "3.12.2"
  }
 },
 "nbformat": 4,
 "nbformat_minor": 2
}
