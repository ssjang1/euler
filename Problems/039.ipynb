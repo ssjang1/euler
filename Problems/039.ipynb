{
 "cells": [
  {
   "cell_type": "markdown",
   "metadata": {},
   "source": [
    "# 가장 많은 직각삼각형이 만들어지는 둘레(≤ 1000)의 길이는?\n",
    "\n",
    "세 변의 길이가 모두 자연수 {a, b, c}인 직각삼각형의 둘레를 p 로 둘 때, p = 120 을 만족하는 직각삼각형은 아래와 같이 세 개가 있습니다.\n",
    "\n",
    "{20, 48, 52}, {24, 45, 51}, {30, 40, 50}\n",
    "1000 이하의 둘레 p에 대해서, 직각삼각형이 가장 많이 만들어지는 p의 값은 얼마입니까?"
   ]
  },
  {
   "cell_type": "code",
   "execution_count": 3,
   "metadata": {},
   "outputs": [
    {
     "name": "stdout",
     "output_type": "stream",
     "text": [
      "840\n"
     ]
    }
   ],
   "source": [
    "variety_p = 0\n",
    "max_count = 0\n",
    "for p in range(3, 1001):\n",
    "    count = 0\n",
    "    for a in range(1,p//3):\n",
    "        for b in range(1,p//2):\n",
    "            if a*a + b*b == (p-a-b)*(p-a-b):\n",
    "                count +=1\n",
    "    if count >= max_count:\n",
    "        max_count = count\n",
    "        variety_p = p\n",
    "print(variety_p)"
   ]
  }
 ],
 "metadata": {
  "kernelspec": {
   "display_name": "torch",
   "language": "python",
   "name": "python3"
  },
  "language_info": {
   "codemirror_mode": {
    "name": "ipython",
    "version": 3
   },
   "file_extension": ".py",
   "mimetype": "text/x-python",
   "name": "python",
   "nbconvert_exporter": "python",
   "pygments_lexer": "ipython3",
   "version": "3.11.5"
  }
 },
 "nbformat": 4,
 "nbformat_minor": 2
}
