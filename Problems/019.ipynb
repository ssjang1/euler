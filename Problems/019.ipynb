{
 "cells": [
  {
   "cell_type": "markdown",
   "metadata": {},
   "source": [
    "# 20세기에서, 매월 1일이 일요일인 경우는 몇 번?\n",
    "다음은 달력에 관한 몇 가지 일반적인 정보입니다 (필요한 경우 좀 더 연구를 해 보셔도 좋습니다).\n",
    "\n",
    "- 1900년 1월 1일은 월요일이다.\n",
    "- 4월, 6월, 9월, 11월은 30일까지 있고, 1월, 3월, 5월, 7월, 8월, 10월, 12월은 31일까지 있다.\n",
    "- 2월은 28일이지만, 윤년에는 29일까지 있다.\n",
    "- 윤년은 연도를 4로 나누어 떨어지는 해를 말한다. 하지만 400으로 나누어 떨어지지 않는 매 100년째는 윤년이 아니며, 400으로 나누어 떨어지면 윤년이다\n",
    "\n",
    "20세기 (1901년 1월 1일 ~ 2000년 12월 31일) 에서, 매월 1일이 일요일인 경우는 총 몇 번입니까?"
   ]
  },
  {
   "cell_type": "code",
   "execution_count": null,
   "metadata": {},
   "outputs": [],
   "source": [
    "# 100년 12달 -> 1200달\n",
    "# 월1 화2 수3 목4 금5 토6 일7"
   ]
  },
  {
   "cell_type": "code",
   "execution_count": 2,
   "metadata": {},
   "outputs": [],
   "source": [
    "def yoon(n):\n",
    "    if n % 400 ==0:\n",
    "        return True\n",
    "    elif n%100 ==0:\n",
    "        return False\n",
    "    elif n%4 == 0:\n",
    "        return True\n",
    "    else:\n",
    "        return False"
   ]
  },
  {
   "cell_type": "code",
   "execution_count": 9,
   "metadata": {},
   "outputs": [
    {
     "data": {
      "text/plain": [
       "Counter({False: 75, True: 25})"
      ]
     },
     "execution_count": 9,
     "metadata": {},
     "output_type": "execute_result"
    }
   ],
   "source": [
    "from collections import Counter\n",
    "check = []\n",
    "for i in range(1901,2001):\n",
    "    check.append(yoon(i))\n",
    "check\n",
    "\n",
    "result = Counter(check)\n",
    "result"
   ]
  },
  {
   "cell_type": "code",
   "execution_count": 20,
   "metadata": {},
   "outputs": [
    {
     "data": {
      "text/plain": [
       "171"
      ]
     },
     "execution_count": 20,
     "metadata": {},
     "output_type": "execute_result"
    }
   ],
   "source": [
    "month = [31,28,31,30,31,30,31,31,30,31,30,31]\n",
    "yoon_month = [31,29,31,30,31,30,31,31,30,31,30,31]\n",
    "count = 0\n",
    "days = 1\n",
    "for i in range(1901,2001):\n",
    "    if yoon(i):\n",
    "        for mon in yoon_month:\n",
    "            days += mon\n",
    "            if days %7 == 6:\n",
    "                count +=1       \n",
    "    else:\n",
    "        for mon in month:\n",
    "            days += mon\n",
    "            if days %7 == 6:\n",
    "                count +=1\n",
    "            \n",
    "count"
   ]
  }
 ],
 "metadata": {
  "kernelspec": {
   "display_name": "torch",
   "language": "python",
   "name": "python3"
  },
  "language_info": {
   "codemirror_mode": {
    "name": "ipython",
    "version": 3
   },
   "file_extension": ".py",
   "mimetype": "text/x-python",
   "name": "python",
   "nbconvert_exporter": "python",
   "pygments_lexer": "ipython3",
   "version": "3.11.5"
  }
 },
 "nbformat": 4,
 "nbformat_minor": 2
}
