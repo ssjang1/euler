{
 "cells": [
  {
   "cell_type": "markdown",
   "metadata": {},
   "source": [
    "# 1부터 1000까지 영어로 썼을 때 사용된 글자의 개수는?\n",
    "\n",
    "1부터 5까지의 수를 영어로 쓰면 one, two, three, four, five 이고,\n",
    "각 단어의 길이를 더하면 3 + 3 + 5 + 4 + 4 = 19 이므로 사용된 글자는 모두 19개입니다.\n",
    "\n",
    "1부터 1,000까지 영어로 썼을 때는 모두 몇 개의 글자를 사용해야 할까요?\n",
    "\n",
    "참고: 빈 칸이나 하이픈('-')은 셈에서 제외하며, 단어 사이의 and 는 셈에 넣습니다.\n",
    "  예를 들어 342를 영어로 쓰면 three hundred and forty-two 가 되어서 23 글자,\n",
    "  115 = one hundred and fifteen 의 경우에는 20 글자가 됩니다."
   ]
  },
  {
   "cell_type": "code",
   "execution_count": 38,
   "metadata": {},
   "outputs": [],
   "source": [
    "one_digit = {'0':'','1':'one','2':'two','3':'three','4':'four','5':'five','6':'six','7':'seven','8':'eight','9':'nine'}\n",
    "ten_digit = {'10':'ten', '11':'eleven', '12':'twelve', '13':'thirteen', '14':'fourteen','15':'fifteen','16':'sixteen','17':'seventeen','18':'eighteen','19':'nineteen'}\n",
    "ten_digit2 = {'0': '', '2':'twenty', '3':'thirty', '4':'forty', '5':'fifty', '6':'sixty', '7':'seventy', '8':'eighty', '9':'ninety'}\n"
   ]
  },
  {
   "cell_type": "code",
   "execution_count": 53,
   "metadata": {},
   "outputs": [],
   "source": [
    "# def number_of_letters(max_number):\n",
    "#     summation = 0\n",
    "#     for i in range(1,max_number+1):\n",
    "#         if len(str(i)) == 1:\n",
    "#             summation += len(one_digit[i])\n",
    "#         elif len(str(i)) == 2:\n",
    "#             if i <=19:\n",
    "#                 summation += len(ten_digit[i])\n",
    "#             else:\n",
    "#                 summation += len(ten_digit2[int(str(i)[-2])]) + len(one_digit[int(str(i)[-1])])\n",
    "#         elif len(str(i)) == 3:\n",
    "#             if 10<= int(str(i)[-2:]) <=19:\n",
    "#                 summation += len(one_digit[int(str(i)[-3])]) + len('hundred') + len('and') + len(ten_digit[int(str(i)[-2:])]) \n",
    "#             else:\n",
    "#                 summation += len(one_digit[int(str(i)[-3])]) + len('hundred') + len('and') + len(ten_digit2[int(str(i)[-2])]) + len(one_digit[int(str(i)[-1])])\n",
    "#         elif i == 1000:\n",
    "#             summation += len('onethousand')\n",
    "#     return summation"
   ]
  },
  {
   "cell_type": "code",
   "execution_count": 59,
   "metadata": {},
   "outputs": [],
   "source": [
    "# def number_of_letters2(max_number):\n",
    "#     units = [\"\", \"one\", \"two\", \"three\", \"four\", \"five\", \"six\", \"seven\", \"eight\", \"nine\", \"ten\", \"eleven\", \"twelve\", \"thirteen\", \"fourteen\", \"fifteen\", \"sixteen\", \"seventeen\", \"eighteen\", \"nineteen\"]\n",
    "#     tens = [\"\", \"\", \"twenty\", \"thirty\", \"forty\", \"fifty\", \"sixty\", \"seventy\", \"eighty\", \"ninety\"]\n",
    "\n",
    "#     for i in range(1,max_number+1):\n",
    "#         if i <20:\n",
    "#             summation +=len(units[i])\n",
    "#         elif i<100:\n",
    "#             summation += len(tens[i//10]+units[i%10])\n",
    "#         elif i<1000:\n",
    "#             hundred = units[i//100] +'hundred'\n",
    "#             remain = i%100\n",
    "#             if remain == 0:\n",
    "#                 summation += len(hundred)\n",
    "#             else:\n",
    "#                 summation += len(hundred+'and'+number_of_letters2(remain))\n",
    "#         elif i ==1000:\n",
    "#             summation += len('onethousand')\n",
    "        "
   ]
  },
  {
   "cell_type": "code",
   "execution_count": null,
   "metadata": {},
   "outputs": [],
   "source": [
    "# number_of_letters2(1000)"
   ]
  },
  {
   "cell_type": "code",
   "execution_count": 63,
   "metadata": {},
   "outputs": [
    {
     "data": {
      "text/plain": [
       "21124"
      ]
     },
     "execution_count": 63,
     "metadata": {},
     "output_type": "execute_result"
    }
   ],
   "source": [
    "def number_to_words(num):\n",
    "\n",
    "    units = [\"\", \"one\", \"two\", \"three\", \"four\", \"five\", \"six\", \"seven\", \"eight\", \"nine\", \"ten\", \"eleven\", \"twelve\", \"thirteen\", \"fourteen\", \"fifteen\", \"sixteen\", \"seventeen\", \"eighteen\", \"nineteen\"]\n",
    "\n",
    "    tens = [\"\", \"\", \"twenty\", \"thirty\", \"forty\", \"fifty\", \"sixty\", \"seventy\", \"eighty\", \"ninety\"]\n",
    "\n",
    "    if num < 20:\n",
    "        return units[num]\n",
    "    elif num < 100:\n",
    "        return tens[num // 10] + units[num % 10]\n",
    "    elif num < 1000:\n",
    "        hundred = units[num // 100] + \"hundred\"\n",
    "        remainder = num % 100\n",
    "        if remainder == 0:\n",
    "            return hundred\n",
    "        else:\n",
    "            return hundred + \"and\" + number_to_words(remainder)\n",
    "    elif num == 1000:\n",
    "        return 'onethousand'\n",
    "\n",
    "count = 0\n",
    "for i in range(1, 1001):\n",
    "    count += len(number_to_words(i))\n",
    "count"
   ]
  }
 ],
 "metadata": {
  "kernelspec": {
   "display_name": "base",
   "language": "python",
   "name": "python3"
  },
  "language_info": {
   "codemirror_mode": {
    "name": "ipython",
    "version": 3
   },
   "file_extension": ".py",
   "mimetype": "text/x-python",
   "name": "python",
   "nbconvert_exporter": "python",
   "pygments_lexer": "ipython3",
   "version": "3.9.7"
  }
 },
 "nbformat": 4,
 "nbformat_minor": 2
}
