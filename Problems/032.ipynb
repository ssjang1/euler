{
 "cells": [
  {
   "cell_type": "markdown",
   "metadata": {},
   "source": [
    "# 1~9 팬디지털 곱셈식을 만들 수 있는 모든 수의 합\n",
    "\n",
    "1부터 n까지의 각 숫자를 한 번씩만 써서 만들 수 있는 수를 팬디지털(pandigital)이라고 합니다.\n",
    "예를 들면 15234는 1부터 5의 숫자가 한 번씩만 쓰였으므로 1 ~ 5 팬디지털입니다.\n",
    "\n",
    "7254라는 수는 그런 면에서 특이한데, 39 × 186 = 7254 라는 곱셈식을 만들 때 이것이 1 ~ 9 팬디지털이 되기 때문입니다.\n",
    "\n",
    "이런 식으로 a × b = c 가 1 ~ 9 팬디지털이 되는 모든 c의 합은 얼마입니까?\n",
    "\n",
    "(참고: 어떤 c는 두 개 이상의 (a, b)쌍에 대응될 수도 있는데, 이런 경우는 하나로 칩니다)"
   ]
  },
  {
   "cell_type": "markdown",
   "metadata": {},
   "source": [
    "### 두자리수 X 세자리수 = 네자리수 인 경우만 가능한거 같다\n",
    "\n",
    "-> 1 x 4 = 4 도 되는듯;;"
   ]
  },
  {
   "cell_type": "code",
   "execution_count": 1,
   "metadata": {},
   "outputs": [
    {
     "data": {
      "text/plain": [
       "{1, 2, 3, 4, 5, 6, 7, 8, 9}"
      ]
     },
     "execution_count": 1,
     "metadata": {},
     "output_type": "execute_result"
    }
   ],
   "source": [
    "numbers = set(range(1,10))\n",
    "numbers"
   ]
  },
  {
   "cell_type": "code",
   "execution_count": 39,
   "metadata": {},
   "outputs": [],
   "source": [
    "a_nums = list(range(1,99+1))\n",
    "b_nums= list(range(100,9999+1))"
   ]
  },
  {
   "cell_type": "code",
   "execution_count": 40,
   "metadata": {},
   "outputs": [],
   "source": [
    "filterd_a = list()\n",
    "for a in a_nums:\n",
    "    check = set()\n",
    "    if '0' in str(a):\n",
    "        continue\n",
    "    for d in str(a):\n",
    "        if d in check:\n",
    "            break\n",
    "        check.add(d)\n",
    "    else:\n",
    "        filterd_a.append(a)"
   ]
  },
  {
   "cell_type": "code",
   "execution_count": 41,
   "metadata": {},
   "outputs": [
    {
     "data": {
      "text/plain": [
       "81"
      ]
     },
     "execution_count": 41,
     "metadata": {},
     "output_type": "execute_result"
    }
   ],
   "source": [
    "len(filterd_a)"
   ]
  },
  {
   "cell_type": "code",
   "execution_count": 42,
   "metadata": {},
   "outputs": [],
   "source": [
    "filterd_b = list()\n",
    "for b in b_nums:\n",
    "    check = set()\n",
    "    if '0' in str(b):\n",
    "        continue\n",
    "    for d in str(b):\n",
    "        if d in check:\n",
    "            break\n",
    "        check.add(d)\n",
    "    else:\n",
    "        filterd_b.append(b)"
   ]
  },
  {
   "cell_type": "code",
   "execution_count": 43,
   "metadata": {},
   "outputs": [
    {
     "data": {
      "text/plain": [
       "3528"
      ]
     },
     "execution_count": 43,
     "metadata": {},
     "output_type": "execute_result"
    }
   ],
   "source": [
    "len(filterd_b)"
   ]
  },
  {
   "cell_type": "code",
   "execution_count": 44,
   "metadata": {},
   "outputs": [
    {
     "name": "stdout",
     "output_type": "stream",
     "text": [
      "4 1738 6952\n",
      "4 1963 7852\n",
      "12 483 5796\n",
      "18 297 5346\n",
      "27 198 5346\n",
      "28 157 4396\n",
      "39 186 7254\n",
      "42 138 5796\n",
      "48 159 7632\n"
     ]
    }
   ],
   "source": [
    "cnt =0 \n",
    "c_values = set()\n",
    "for a in filterd_a:\n",
    "    for b in filterd_b:\n",
    "        check = True\n",
    "        for d in str(a):\n",
    "            if d in set(str(b)):\n",
    "                check = False\n",
    "                break\n",
    "        if check:\n",
    "            c = a*b\n",
    "            if c >10000 or c <1000:\n",
    "                continue\n",
    "            if '0' in str(c):\n",
    "                continue\n",
    "            if len(set(str(a)).union(set(str(b)),set(str(c)))) == 9:\n",
    "                cnt +=1\n",
    "                c_values.add(c)\n",
    "                print(a,b,c)"
   ]
  },
  {
   "cell_type": "code",
   "execution_count": 45,
   "metadata": {},
   "outputs": [
    {
     "name": "stdout",
     "output_type": "stream",
     "text": [
      "9\n",
      "7\n"
     ]
    }
   ],
   "source": [
    "print(cnt)\n",
    "print(len(c_values))"
   ]
  },
  {
   "cell_type": "code",
   "execution_count": 46,
   "metadata": {},
   "outputs": [
    {
     "data": {
      "text/plain": [
       "45228"
      ]
     },
     "execution_count": 46,
     "metadata": {},
     "output_type": "execute_result"
    }
   ],
   "source": [
    "sum(c_values)"
   ]
  }
 ],
 "metadata": {
  "kernelspec": {
   "display_name": "base",
   "language": "python",
   "name": "python3"
  },
  "language_info": {
   "codemirror_mode": {
    "name": "ipython",
    "version": 3
   },
   "file_extension": ".py",
   "mimetype": "text/x-python",
   "name": "python",
   "nbconvert_exporter": "python",
   "pygments_lexer": "ipython3",
   "version": "3.9.7"
  }
 },
 "nbformat": 4,
 "nbformat_minor": 2
}
