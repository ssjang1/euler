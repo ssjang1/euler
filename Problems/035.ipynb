{
 "cells": [
  {
   "cell_type": "markdown",
   "metadata": {},
   "source": [
    "# 백만 미만인 원형 소수 개수 구하기\n",
    "\n",
    "소수 중에서 각 자리의 숫자들을 순환시켜도 여전히 소수인 것을 원형 소수(circular prime)라고 합니다. 예를 들어 197은 971, 719가 모두 소수이므로 여기에 해당합니다.\n",
    "\n",
    "이런 소수는 100 미만에 2, 3, 5, 7, 11, 13, 17, 31, 37, 71, 73, 79, 97 처럼 13개가 있습니다.\n",
    "\n",
    "그러면 1,000,000 미만에는 모두 몇 개나 있을까요?"
   ]
  },
  {
   "cell_type": "code",
   "execution_count": 33,
   "metadata": {},
   "outputs": [],
   "source": [
    "def sosu(n):\n",
    "    if n <=1:\n",
    "        return False\n",
    "    if n ==2:\n",
    "        return True\n",
    "    if n%2 ==0:\n",
    "        return False\n",
    "    for i in range(3,int(n**0.5)+1,2):\n",
    "        if n%i ==0:\n",
    "            return False\n",
    "    return True"
   ]
  },
  {
   "cell_type": "code",
   "execution_count": 40,
   "metadata": {},
   "outputs": [],
   "source": [
    "def circle(n):\n",
    "    numbers = list(str(n))\n",
    "    num_length = len(str(n))\n",
    "    circle_nums = list()\n",
    "    for i in range(0,num_length):\n",
    "        a = ''\n",
    "        for j in range(len(numbers)):\n",
    "            a += numbers[(j+i)%num_length]\n",
    "        circle_nums.append(int(a))\n",
    "    return circle_nums\n"
   ]
  },
  {
   "cell_type": "code",
   "execution_count": 41,
   "metadata": {},
   "outputs": [
    {
     "data": {
      "text/plain": [
       "[123, 231, 312]"
      ]
     },
     "execution_count": 41,
     "metadata": {},
     "output_type": "execute_result"
    }
   ],
   "source": [
    "circle(123)"
   ]
  },
  {
   "cell_type": "code",
   "execution_count": 47,
   "metadata": {},
   "outputs": [
    {
     "data": {
      "text/plain": [
       "55"
      ]
     },
     "execution_count": 47,
     "metadata": {},
     "output_type": "execute_result"
    }
   ],
   "source": [
    "result = list()\n",
    "for i in range(2,1000000):\n",
    "    if sosu(i):\n",
    "        numbers_list = circle(i)\n",
    "        for n in numbers_list:\n",
    "            if not sosu(n):\n",
    "                break\n",
    "        else:\n",
    "            result.append(i)\n",
    "\n",
    "len(result)"
   ]
  }
 ],
 "metadata": {
  "kernelspec": {
   "display_name": "base",
   "language": "python",
   "name": "python3"
  },
  "language_info": {
   "codemirror_mode": {
    "name": "ipython",
    "version": 3
   },
   "file_extension": ".py",
   "mimetype": "text/x-python",
   "name": "python",
   "nbconvert_exporter": "python",
   "pygments_lexer": "ipython3",
   "version": "3.9.7"
  }
 },
 "nbformat": 4,
 "nbformat_minor": 2
}
