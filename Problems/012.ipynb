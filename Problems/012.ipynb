{
 "cells": [
  {
   "cell_type": "markdown",
   "metadata": {},
   "source": [
    "# 500개 이상의 약수를 갖는 가장 작은 삼각수는?\n",
    "\n",
    "1부터 n까지의 자연수를 차례로 더하여 구해진 값을 삼각수라고 합니다.\n",
    "예를 들어 7번째 삼각수는 1 + 2 + 3 + 4 + 5 + 6 + 7 = 28이 됩니다.\n",
    "이런 식으로 삼각수를 구해 나가면 다음과 같습니다.\n",
    "\n",
    "1, 3, 6, 10, 15, 21, 28, 36, 45, 55, ...\n",
    "이 삼각수들의 약수를 구해 봅시다.\n",
    "\n",
    " 1: 1\n",
    " 3: 1, 3\n",
    " 6: 1, 2, 3, 6\n",
    "10: 1, 2, 5, 10\n",
    "15: 1, 3, 5, 15\n",
    "21: 1, 3, 7, 21\n",
    "28: 1, 2, 4, 7, 14, 28\n",
    "위에서 보듯이, 5개 이상의 약수를 갖는 첫번째 삼각수는 28입니다.\n",
    "\n",
    "그러면 500개 이상의 약수를 갖는 가장 작은 삼각수는 얼마입니까?"
   ]
  },
  {
   "cell_type": "code",
   "execution_count": 17,
   "metadata": {},
   "outputs": [],
   "source": [
    "def yaksu_count(n):\n",
    "    count = 0\n",
    "    for i in range(1, int(n ** 0.5) + 1):\n",
    "        if n % i == 0:\n",
    "            count += 2 if i != n // i else 1\n",
    "    return count"
   ]
  },
  {
   "cell_type": "code",
   "execution_count": 18,
   "metadata": {},
   "outputs": [],
   "source": [
    "def samgak(n):\n",
    "  return int(n*(n+1)/2)"
   ]
  },
  {
   "cell_type": "code",
   "execution_count": 19,
   "metadata": {},
   "outputs": [
    {
     "name": "stdout",
     "output_type": "stream",
     "text": [
      "76576500\n"
     ]
    }
   ],
   "source": [
    "find = False\n",
    "n=1\n",
    "while not find:\n",
    "    if yaksu_count(samgak(n))>=500:\n",
    "        find=True\n",
    "    else:\n",
    "        n+=1\n",
    "print(samgak(n))"
   ]
  }
 ],
 "metadata": {
  "kernelspec": {
   "display_name": "base",
   "language": "python",
   "name": "python3"
  },
  "language_info": {
   "codemirror_mode": {
    "name": "ipython",
    "version": 3
   },
   "file_extension": ".py",
   "mimetype": "text/x-python",
   "name": "python",
   "nbconvert_exporter": "python",
   "pygments_lexer": "ipython3",
   "version": "3.9.7"
  }
 },
 "nbformat": 4,
 "nbformat_minor": 2
}
