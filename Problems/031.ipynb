{
 "cells": [
  {
   "cell_type": "markdown",
   "metadata": {},
   "source": [
    "# 영국 화폐 액면가를 조합하는 방법의 수\n",
    "\n",
    "영국의 화폐 단위는 파운드(£)와 펜스(p)이고, 동전의 종류는 아래와 같습니다.\n",
    "\n",
    "1p, 2p, 5p, 10p, 20p, 50p, £1 (100p), £2 (200p)\n",
    "이 동전들을 가지고 2파운드를 만드는 방법은 다양할 것입니다. 예를 하나 들면 이렇습니다.\n",
    "\n",
    "1×£1 + 1×50p + 2×20p + 1×5p + 1×2p + 3×1p\n",
    "2파운드를 만드는 서로 다른 방법은 모두 몇 가지나 있습니까?"
   ]
  },
  {
   "cell_type": "code",
   "execution_count": 3,
   "metadata": {},
   "outputs": [
    {
     "name": "stdout",
     "output_type": "stream",
     "text": [
      "73682\n"
     ]
    }
   ],
   "source": [
    "cnt = 0\n",
    "for n200 in range(0,1+1):\n",
    "    for n100 in range(0,2+1):\n",
    "        for n50 in range(0,4+1):\n",
    "            for n20 in range(0,10+1):\n",
    "                for n10 in range(0,20+1):\n",
    "                    for n5 in range(0,40+1):\n",
    "                        for n2 in range(0,100+1):\n",
    "                            value = 200*n200 + 100*n100 + 50*n50 + 20*n20 +10*n10 + 5*n5 + 2*n2\n",
    "                            if value <=200:\n",
    "                                cnt+=1\n",
    "                                \n",
    "print(cnt)"
   ]
  }
 ],
 "metadata": {
  "kernelspec": {
   "display_name": "base",
   "language": "python",
   "name": "python3"
  },
  "language_info": {
   "codemirror_mode": {
    "name": "ipython",
    "version": 3
   },
   "file_extension": ".py",
   "mimetype": "text/x-python",
   "name": "python",
   "nbconvert_exporter": "python",
   "pygments_lexer": "ipython3",
   "version": "3.9.7"
  }
 },
 "nbformat": 4,
 "nbformat_minor": 2
}
