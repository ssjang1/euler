{
 "cells": [
  {
   "cell_type": "markdown",
   "metadata": {},
   "source": [
    "# 10000 이하 모든 친화수(우애수)의 합은?\n",
    "\n",
    "n의 약수들 중에서 자신을 제외한 것의 합을 d(n)으로 정의했을 때,\n",
    "서로 다른 두 정수 a, b에 대하여 d(a) = b 이고 d(b) = a 이면\n",
    "a, b는 친화쌍이라 하고 a와 b를 각각 친화수(우애수)라고 합니다.\n",
    "\n",
    "예를 들어 220의 약수는 자신을 제외하면 1, 2, 4, 5, 10, 11, 20, 22, 44, 55, 110 이므로 그 합은 d(220) = 284 입니다.\n",
    "또 284의 약수는 자신을 제외하면 1, 2, 4, 71, 142 이므로 d(284) = 220 입니다.\n",
    "따라서 220과 284는 친화쌍이 됩니다.\n",
    "\n",
    "10000 이하의 친화수들을 모두 찾아서 그 합을 구하세요."
   ]
  },
  {
   "cell_type": "code",
   "execution_count": 27,
   "metadata": {},
   "outputs": [],
   "source": [
    "def chinhwa(number):\n",
    "    yaksu_list = [1]\n",
    "    for i in range(2,int(number**0.5+1)):\n",
    "        if number % i ==0:\n",
    "            if i != number // i:\n",
    "                yaksu_list.append(i)\n",
    "                yaksu_list.append(number//i)\n",
    "            else:\n",
    "                yaksu_list.append(i)\n",
    "    return sum(sorted(yaksu_list))"
   ]
  },
  {
   "cell_type": "code",
   "execution_count": 22,
   "metadata": {},
   "outputs": [
    {
     "data": {
      "text/plain": [
       "3"
      ]
     },
     "execution_count": 22,
     "metadata": {},
     "output_type": "execute_result"
    }
   ],
   "source": [
    "chinhwa(4)"
   ]
  },
  {
   "cell_type": "code",
   "execution_count": 20,
   "metadata": {},
   "outputs": [
    {
     "name": "stdout",
     "output_type": "stream",
     "text": [
      "284\n",
      "220\n"
     ]
    }
   ],
   "source": [
    "print(chinhwa(220))\n",
    "print(chinhwa(284))"
   ]
  },
  {
   "cell_type": "code",
   "execution_count": 23,
   "metadata": {},
   "outputs": [
    {
     "name": "stdout",
     "output_type": "stream",
     "text": [
      "1 1\n",
      "6 6\n",
      "28 28\n"
     ]
    }
   ],
   "source": [
    "for i in range(1,101):\n",
    "    if i == chinhwa(chinhwa(i)):\n",
    "        print(i, chinhwa(chinhwa(i)))"
   ]
  },
  {
   "cell_type": "code",
   "execution_count": 28,
   "metadata": {},
   "outputs": [
    {
     "name": "stdout",
     "output_type": "stream",
     "text": [
      "31626\n"
     ]
    }
   ],
   "source": [
    "summation = 0\n",
    "maxi = 10000\n",
    "for i in range(2, maxi+1):\n",
    "    if chinhwa(chinhwa(i)) <=maxi:\n",
    "        if i != chinhwa(i):\n",
    "            if i == chinhwa(chinhwa(i)):\n",
    "                summation += i\n",
    "print(summation)"
   ]
  },
  {
   "cell_type": "code",
   "execution_count": 13,
   "metadata": {},
   "outputs": [
    {
     "name": "stdout",
     "output_type": "stream",
     "text": [
      "35607849\n"
     ]
    }
   ],
   "source": [
    "# sang_woo_list = [0]\n",
    "# summation = 0\n",
    "# for i in range(1, 10001):\n",
    "#     if sum(yaksu(i)) in sang_woo_list:\n",
    "#         summation += sang_woo_list.index(sum(yaksu(i))) + i\n",
    "#     sang_woo_list.append(sum(yaksu(i)))\n",
    "# print(summation)\n",
    "    "
   ]
  }
 ],
 "metadata": {
  "kernelspec": {
   "display_name": "Python 3",
   "language": "python",
   "name": "python3"
  },
  "language_info": {
   "codemirror_mode": {
    "name": "ipython",
    "version": 3
   },
   "file_extension": ".py",
   "mimetype": "text/x-python",
   "name": "python",
   "nbconvert_exporter": "python",
   "pygments_lexer": "ipython3",
   "version": "3.12.2"
  }
 },
 "nbformat": 4,
 "nbformat_minor": 2
}
