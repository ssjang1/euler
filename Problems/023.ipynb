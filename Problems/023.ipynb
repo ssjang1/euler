{
 "cells": [
  {
   "cell_type": "markdown",
   "metadata": {},
   "source": [
    "# 두 과잉수의 합으로 나타낼 수 없는 모든 양의 정수의 합은?\n",
    "\n",
    "자신을 제외한 약수(진약수)를 모두 더하면 자기 자신이 되는 수를 완전수라고 합니다.\n",
    "예를 들어 28은 1 + 2 + 4 + 7 + 14 = 28 이므로 완전수입니다.\n",
    "또, 진약수의 합이 자신보다 작으면 부족수, 자신보다 클 때는 과잉수라고 합니다.\n",
    "\n",
    "12는 1 + 2 + 3 + 4 + 6 = 16 > 12 로서 과잉수 중에서는 가장 작습니다.\n",
    "따라서 과잉수 두 개의 합으로 나타낼 수 있는 수 중 가장 작은 수는 24 (= 12 + 12) 입니다.\n",
    "\n",
    "해석학적인 방법을 사용하면, 28123을 넘는 모든 정수는 두 과잉수의 합으로 표현 가능함을 보일 수가 있습니다.\n",
    "두 과잉수의 합으로 나타낼 수 없는 가장 큰 수는 실제로는 이 한계값보다 작지만, 해석학적인 방법으로는 더 이상 이 한계값을 낮출 수 없다고 합니다.\n",
    "\n",
    "그렇다면, 과잉수 두 개의 합으로 나타낼 수 없는 모든 양의 정수의 합은 얼마입니까?\n",
    "\n"
   ]
  },
  {
   "cell_type": "code",
   "execution_count": 54,
   "metadata": {},
   "outputs": [],
   "source": [
    "def sum_jin_yaksoo(n):\n",
    "    yaksoo = {1}\n",
    "    for i in range(2, int(n**0.5)+1):\n",
    "        if n % i ==0:\n",
    "            yaksoo.add(i)\n",
    "            if i != n//i:\n",
    "                yaksoo.add(n//i)\n",
    "    return sum(yaksoo)"
   ]
  },
  {
   "cell_type": "code",
   "execution_count": null,
   "metadata": {},
   "outputs": [],
   "source": [
    "def sum_of_divisors(n):\n",
    "    divisors = {1}\n",
    "    for i in range(2, int(n**0.5) + 1):\n",
    "        if n % i == 0:\n",
    "            divisors.add(i)\n",
    "            if i != n // i:\n",
    "                divisors.add(n // i)\n",
    "    return sum(divisors)"
   ]
  },
  {
   "cell_type": "code",
   "execution_count": 55,
   "metadata": {},
   "outputs": [],
   "source": [
    "def find_abundant_numbers(limit):\n",
    "    abundant_numbers = []\n",
    "    for i in range(1,limit+1):\n",
    "        if sum_jin_yaksoo(i) > i:\n",
    "            abundant_numbers.append(i)\n",
    "    return abundant_numbers"
   ]
  },
  {
   "cell_type": "code",
   "execution_count": 26,
   "metadata": {},
   "outputs": [],
   "source": [
    "abundant_numbers = find_abundant_numbers(23123)\n",
    "abundant_sums = set()\n",
    "for i in abundant_numbers:\n",
    "    for j in abundant_numbers:\n",
    "        if i+j <= 23123:\n",
    "            abundant_sums.add(i+j)"
   ]
  },
  {
   "cell_type": "code",
   "execution_count": 59,
   "metadata": {},
   "outputs": [
    {
     "name": "stdout",
     "output_type": "stream",
     "text": [
      "두 과잉수의 합으로 나타낼 수 없는 모든 수의 합: 4179871\n"
     ]
    }
   ],
   "source": [
    "def find_abundant_numbers(limit):\n",
    "    abundant_numbers = []\n",
    "    for n in range(1, limit + 1):\n",
    "        if sum_of_divisors(n) > n:\n",
    "            abundant_numbers.append(n)\n",
    "    return abundant_numbers\n",
    "\n",
    "def sum_of_divisors(n):\n",
    "    divisors = {1}\n",
    "    for i in range(2, int(n**0.5) + 1):\n",
    "        if n % i == 0:\n",
    "            divisors.add(i)\n",
    "            if i != n // i:\n",
    "                divisors.add(n // i)\n",
    "    return sum(divisors)\n",
    "\n",
    "def solve(limit):\n",
    "    abundant_numbers = find_abundant_numbers(limit)\n",
    "    abundant_sums = set()\n",
    "    for i in abundant_numbers:\n",
    "        for j in abundant_numbers:\n",
    "            if i + j <= limit:\n",
    "                abundant_sums.add(i + j)\n",
    "    \n",
    "    total_sum = sum(range(1, limit + 1))\n",
    "    non_abundant_sum = total_sum - sum(abundant_sums)\n",
    "    \n",
    "    return non_abundant_sum\n",
    "\n",
    "# 문제 해결\n",
    "limit = 28123\n",
    "result = solve(limit)\n",
    "print(\"두 과잉수의 합으로 나타낼 수 없는 모든 수의 합:\", result)"
   ]
  },
  {
   "cell_type": "code",
   "execution_count": 60,
   "metadata": {},
   "outputs": [
    {
     "data": {
      "text/plain": [
       "66081240"
      ]
     },
     "execution_count": 60,
     "metadata": {},
     "output_type": "execute_result"
    }
   ],
   "source": [
    "sum(abundant_numbers)"
   ]
  }
 ],
 "metadata": {
  "kernelspec": {
   "display_name": "base",
   "language": "python",
   "name": "python3"
  },
  "language_info": {
   "codemirror_mode": {
    "name": "ipython",
    "version": 3
   },
   "file_extension": ".py",
   "mimetype": "text/x-python",
   "name": "python",
   "nbconvert_exporter": "python",
   "pygments_lexer": "ipython3",
   "version": "3.9.7"
  }
 },
 "nbformat": 4,
 "nbformat_minor": 2
}
