{
 "cells": [
  {
   "cell_type": "markdown",
   "metadata": {},
   "source": [
    "# 연속되는 n에 대해 가장 많은 소수를 만들어내는 이차식\n",
    "\n",
    "오일러는 다음과 같은 멋진 이차식을 제시했습니다.\n",
    "\n",
    "n2 + n + 41\n",
    "이 식의 n에다 0부터 39 사이의 수를 넣으면, 그 결과는 모두 소수가 됩니다.\n",
    "하지만 n = 40일 때의 값 402 + 40 + 41 은 40×(40 + 1) + 41 이므로 41로 나누어지고, n = 41일 때 역시 412 + 41 + 41 이므로 소수가 아닙니다.\n",
    "\n",
    "컴퓨터의 발전에 힘입어 n2 − 79n + 1601 이라는 엄청난 이차식이 발견되었는데, 이것은 n이 0에서 79 사이일 때 모두 80개의 소수를 만들어냅니다. 이 식의 계수의 곱은 -79 × 1601 = -126479가 됩니다.\n",
    "\n",
    "아래와 같은 모양의 이차식이 있다고 가정했을 때,\n",
    "\n",
    "n2 + an + b   (단 | a | < 1000, | b | < 1000)\n",
    "0부터 시작하는 연속된 n에 대해 가장 많은 소수를 만들어내는 이차식을 찾아서, 그 계수 a와 b의 곱을 구하세요."
   ]
  },
  {
   "cell_type": "code",
   "execution_count": 15,
   "metadata": {},
   "outputs": [],
   "source": [
    "def sosu(n):\n",
    "    if n ==1:\n",
    "        return False\n",
    "    for i in range(2, int(n**0.5)+1):\n",
    "        if n%i ==0:\n",
    "            return False\n",
    "    return True"
   ]
  },
  {
   "cell_type": "markdown",
   "metadata": {},
   "source": [
    "a -999 ~ 999 \n",
    "b -999 ~ 999"
   ]
  },
  {
   "cell_type": "code",
   "execution_count": 20,
   "metadata": {},
   "outputs": [
    {
     "ename": "KeyboardInterrupt",
     "evalue": "",
     "output_type": "error",
     "traceback": [
      "\u001b[1;31m---------------------------------------------------------------------------\u001b[0m",
      "\u001b[1;31mKeyboardInterrupt\u001b[0m                         Traceback (most recent call last)",
      "\u001b[1;32m~\\AppData\\Local\\Temp/ipykernel_22500/25442503.py\u001b[0m in \u001b[0;36m<module>\u001b[1;34m\u001b[0m\n\u001b[0;32m     14\u001b[0m                 \u001b[0mmaxi\u001b[0m \u001b[1;33m=\u001b[0m \u001b[0mcheck\u001b[0m\u001b[1;33m\u001b[0m\u001b[1;33m\u001b[0m\u001b[0m\n\u001b[0;32m     15\u001b[0m                 \u001b[0mA\u001b[0m \u001b[1;33m=\u001b[0m \u001b[0ma\u001b[0m\u001b[1;33m\u001b[0m\u001b[1;33m\u001b[0m\u001b[0m\n\u001b[1;32m---> 16\u001b[1;33m                 \u001b[0mB\u001b[0m \u001b[1;33m=\u001b[0m \u001b[0mb\u001b[0m\u001b[1;33m\u001b[0m\u001b[1;33m\u001b[0m\u001b[0m\n\u001b[0m\u001b[0;32m     17\u001b[0m             \u001b[0mcheck\u001b[0m\u001b[1;33m+=\u001b[0m \u001b[1;36m1\u001b[0m\u001b[1;33m\u001b[0m\u001b[1;33m\u001b[0m\u001b[0m\n\u001b[0;32m     18\u001b[0m \u001b[1;33m\u001b[0m\u001b[0m\n",
      "\u001b[1;31mKeyboardInterrupt\u001b[0m: "
     ]
    }
   ],
   "source": [
    "maxi =0\n",
    "A = 999\n",
    "B = 999\n",
    "for a in range(-999,1000):\n",
    "    for b in range(-999,1000):\n",
    "        check = 0\n",
    "        value = check*check +a*check+ b  \n",
    "        while True:\n",
    "            if value <0:\n",
    "                break\n",
    "            if not sosu(value):\n",
    "                break\n",
    "            if check > maxi:\n",
    "                maxi = check\n",
    "                A = a\n",
    "                B = b\n",
    "            check+= 1\n",
    "\n",
    "print(maxi,A,B)"
   ]
  },
  {
   "cell_type": "code",
   "execution_count": 21,
   "metadata": {},
   "outputs": [
    {
     "name": "stdout",
     "output_type": "stream",
     "text": [
      "최대 길이: 70, A: -61, B: 971\n"
     ]
    }
   ],
   "source": [
    "def sosu(n):\n",
    "    if n <= 1:\n",
    "        return False\n",
    "    if n == 2:\n",
    "        return True\n",
    "    if n % 2 == 0:\n",
    "        return False\n",
    "    for i in range(3, int(n**0.5) + 1, 2): \n",
    "        if n % i == 0:\n",
    "            return False\n",
    "    return True\n",
    "\n",
    "maxi = 0\n",
    "A = 9999\n",
    "B = 9999\n",
    "\n",
    "for a in range(-999, 1000):\n",
    "    for b in range(-999, 1000):\n",
    "        check = 0\n",
    "        while True:\n",
    "            value = check * check + a * check + b\n",
    "            if value < 0 or not sosu(value): \n",
    "                break\n",
    "            if check > maxi:\n",
    "                maxi = check\n",
    "                A = a\n",
    "                B = b\n",
    "            check += 1\n",
    "\n",
    "print(f\"최대 길이: {maxi}, A: {A}, B: {B}\")\n"
   ]
  },
  {
   "cell_type": "code",
   "execution_count": 22,
   "metadata": {},
   "outputs": [
    {
     "data": {
      "text/plain": [
       "-59231"
      ]
     },
     "execution_count": 22,
     "metadata": {},
     "output_type": "execute_result"
    }
   ],
   "source": [
    "-61*971"
   ]
  },
  {
   "cell_type": "markdown",
   "metadata": {},
   "source": [
    "코드에 따라 성능이 너무 차이나네\n",
    "이래서 최적화하나보다"
   ]
  }
 ],
 "metadata": {
  "kernelspec": {
   "display_name": "base",
   "language": "python",
   "name": "python3"
  },
  "language_info": {
   "codemirror_mode": {
    "name": "ipython",
    "version": 3
   },
   "file_extension": ".py",
   "mimetype": "text/x-python",
   "name": "python",
   "nbconvert_exporter": "python",
   "pygments_lexer": "ipython3",
   "version": "3.9.7"
  }
 },
 "nbformat": 4,
 "nbformat_minor": 2
}
