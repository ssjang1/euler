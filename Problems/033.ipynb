{
 "cells": [
  {
   "cell_type": "markdown",
   "metadata": {},
   "source": [
    "# 이상한 방법으로 약분할 수 있는 분수 찾기\n",
    "분수 49/98에는 재미있는 성질이 있습니다. 수학을 잘 모르는 사람이 분모와 분자에서 9를 각각 지워서 간단히 하려고 49/98 = 4/8 처럼 계산해도 올바른 결과가 됩니다.\n",
    "\n",
    "이에 비해 30/50 = 3/5 같은 경우는 다소 진부한 예라고 볼 수 있습니다.\n",
    "\n",
    "위와 같은 성질을 가지면서 '진부하지 않은' 분수는, 값이 1보다 작고 분자와 분모가 2자리 정수인 경우 모두 4개가 있습니다.\n",
    "\n",
    "이 4개의 분수를 곱해서 약분했을 때 분모는 얼마입니까?"
   ]
  },
  {
   "cell_type": "code",
   "execution_count": null,
   "metadata": {},
   "outputs": [],
   "source": [
    "num_range = list(range(10,100))"
   ]
  },
  {
   "cell_type": "code",
   "execution_count": 8,
   "metadata": {},
   "outputs": [],
   "source": [
    "pairs = list()\n",
    "for top in num_range:\n",
    "    for bottom in num_range:\n",
    "        if bottom > top:\n",
    "            pairs.append((top,bottom))"
   ]
  },
  {
   "cell_type": "code",
   "execution_count": 12,
   "metadata": {},
   "outputs": [
    {
     "data": {
      "text/plain": [
       "4005"
      ]
     },
     "execution_count": 12,
     "metadata": {},
     "output_type": "execute_result"
    }
   ],
   "source": [
    "len(pairs)"
   ]
  },
  {
   "cell_type": "code",
   "execution_count": 20,
   "metadata": {},
   "outputs": [],
   "source": [
    "filtered_pairs = list()\n",
    "for top,bottom in pairs:\n",
    "    if str(top)[0] == str(bottom)[1]:\n",
    "         if str(bottom)[0]=='0':\n",
    "              continue\n",
    "         if int(str(top)[1])/int(str(bottom)[0]) == top/bottom:\n",
    "              filtered_pairs.append((top,bottom))\n",
    "    elif str(top)[1] == str(bottom)[0]:\n",
    "         if str(bottom)[1]=='0':\n",
    "              continue\n",
    "         if int(str(top)[0])/int(str(bottom)[1]) == top/bottom:\n",
    "              filtered_pairs.append((top,bottom))\n",
    "        "
   ]
  },
  {
   "cell_type": "code",
   "execution_count": 21,
   "metadata": {},
   "outputs": [
    {
     "data": {
      "text/plain": [
       "[(16, 64), (19, 95), (26, 65), (49, 98)]"
      ]
     },
     "execution_count": 21,
     "metadata": {},
     "output_type": "execute_result"
    }
   ],
   "source": [
    "filtered_pairs"
   ]
  },
  {
   "cell_type": "code",
   "execution_count": 23,
   "metadata": {},
   "outputs": [
    {
     "name": "stdout",
     "output_type": "stream",
     "text": [
      "100\n"
     ]
    }
   ],
   "source": [
    "top = 16*19*26*49\n",
    "bottom = 64*95*65*98\n",
    "import math\n",
    "a = math.gcd(top,bottom)\n",
    "\n",
    "print(bottom//a)"
   ]
  }
 ],
 "metadata": {
  "kernelspec": {
   "display_name": "base",
   "language": "python",
   "name": "python3"
  },
  "language_info": {
   "codemirror_mode": {
    "name": "ipython",
    "version": 3
   },
   "file_extension": ".py",
   "mimetype": "text/x-python",
   "name": "python",
   "nbconvert_exporter": "python",
   "pygments_lexer": "ipython3",
   "version": "3.9.7"
  }
 },
 "nbformat": 4,
 "nbformat_minor": 2
}
